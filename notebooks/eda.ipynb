{
 "cells": [
  {
   "cell_type": "markdown",
   "metadata": {},
   "source": [
    "# E-commerce Sales Prediction - Exploratory Data Analysis\n",
    "\n",
    "This notebook contains comprehensive exploratory data analysis for the e-commerce sales prediction project. We'll analyze various aspects of the data to understand patterns and relationships that can help in predicting weekly sales."
   ]
  },
  {
   "cell_type": "markdown",
   "metadata": {},
   "source": [
    "## Setup and Data Loading"
   ]
  },
  {
   "cell_type": "code",
   "execution_count": null,
   "metadata": {},
   "source": [
    "# Import required libraries\n",
    "import findspark\n",
    "findspark.init()\n",
    "\n",
    "from pyspark.sql import SparkSession\n",
    "import pyspark.sql.functions as F\n",
    "from pyspark.sql.functions import col, when, count, mean, stddev\n",
    "import matplotlib.pyplot as plt\n",
    "import seaborn as sns\n",
    "import pandas as pd\n",
    "import numpy as np\n",
    "\n",
    "# Import project utilities\n",
    "import sys\n",
    "sys.path.append('../src')\n",
    "from utils import plot_missing_values, plot_correlation_matrix, detect_outliers\n",
    "from config import NUMERICAL_FEATURES, CATEGORICAL_FEATURES, BINARY_FEATURES\n",
    "\n",
    "# Set up plotting style\n",
    "plt.style.use('seaborn')\n",
    "sns.set_palette('husl')"
   ]
  },
  {
   "cell_type": "code",
   "execution_count": null,
   "metadata": {},
   "source": [
    "# Initialize Spark session\n",
    "spark = SparkSession.builder \\\n",
    "    .appName(\"SalesPrediction_EDA\") \\\n",
    "    .master(\"local[*]\") \\\n",
    "    .config(\"spark.driver.memory\", \"4g\") \\\n",
    "    .getOrCreate()\n",
    "\n",
    "# Load the dataset\n",
    "df = spark.read.csv('../data/raw/sales_data.csv', header=True, inferSchema=True)\n",
    "\n",
    "# Display basic information\n",
    "print(\"Dataset Overview:\")\n",
    "print(f\"Number of records: {df.count():,}\")\n",
    "print(f\"Number of features: {len(df.columns)}\")\n",
    "print(\"\\nSchema:\")\n",
    "df.printSchema()"
   ]
  },
  {
   "cell_type": "markdown",
   "metadata": {},
   "source": [
    "## 1. Missing Data Analysis"
   ]
  },
  {
   "cell_type": "code",
   "execution_count": null,
   "metadata": {},
   "source": [
    "# Analyze missing values\n",
    "plot_missing_values(df)\n",
    "\n",
    "# Get detailed missing value statistics\n",
    "missing_stats = df.select([count(when(col(c).isNull(), c)).alias(c) for c in df.columns]).toPandas()\n",
    "missing_stats = missing_stats.T.reset_index()\n",
    "missing_stats.columns = ['Column', 'Missing Count']\n",
    "missing_stats['Missing Percentage'] = (missing_stats['Missing Count'] / df.count()) * 100\n",
    "missing_stats = missing_stats.sort_values('Missing Percentage', ascending=False)\n",
    "\n",
    "print(\"\\nDetailed Missing Value Analysis:\")\n",
    "print(missing_stats[missing_stats['Missing Percentage'] > 0])"
   ]
  },
  {
   "cell_type": "markdown",
   "metadata": {},
   "source": [
    "## 2. Descriptive Statistics"
   ]
  },
  {
   "cell_type": "code",
   "execution_count": null,
   "metadata": {},
   "source": [
    "# Calculate descriptive statistics for numerical features\n",
    "numeric_stats = df.select(NUMERICAL_FEATURES).describe().toPandas()\n",
    "print(\"Numerical Features Statistics:\")\n",
    "display(numeric_stats)\n",
    "\n",
    "# Display distribution plots for numerical features\n",
    "numerical_data = df.select(NUMERICAL_FEATURES).toPandas()\n",
    "\n",
    "fig, axes = plt.subplots(3, 3, figsize=(15, 15))\n",
    "axes = axes.ravel()\n",
    "\n",
    "for idx, col in enumerate(NUMERICAL_FEATURES):\n",
    "    if idx < len(axes):\n",
    "        sns.histplot(data=numerical_data, x=col, ax=axes[idx])\n",
    "        axes[idx].set_title(f'Distribution of {col}')\n",
    "\n",
    "plt.tight_layout()\n",
    "plt.show()"
   ]
  },
  {
   "cell_type": "markdown",
   "metadata": {},
   "source": [
    "## 3. Sales Analysis"
   ]
  },
  {
   "cell_type": "code",
   "execution_count": null,
   "metadata": {},
   "source": [
    "# Analyze relationship between sales, stock, and price\n",
    "sales_analysis = df.select('sales_count_week', 'stock', 'price', 'primaryPrice').toPandas()\n",
    "\n",
    "fig, axes = plt.subplots(2, 2, figsize=(15, 15))\n",
    "\n",
    "# Sales vs Stock\n",
    "sns.scatterplot(data=sales_analysis, x='stock', y='sales_count_week', ax=axes[0,0], alpha=0.5)\n",
    "axes[0,0].set_title('Sales vs Stock')\n",
    "\n",
    "# Sales vs Price\n",
    "sns.scatterplot(data=sales_analysis, x='price', y='sales_count_week', ax=axes[0,1], alpha=0.5)\n",
    "axes[0,1].set_title('Sales vs Price')\n",
    "\n",
    "# Sales vs Primary Price\n",
    "sns.scatterplot(data=sales_analysis, x='primaryPrice', y='sales_count_week', ax=axes[1,0], alpha=0.5)\n",
    "axes[1,0].set_title('Sales vs Primary Price')\n",
    "\n",
    "# Price Discount Analysis\n",
    "sales_analysis['discount_percentage'] = ((sales_analysis['primaryPrice'] - sales_analysis['price']) \n",
    "                                        / sales_analysis['primaryPrice'] * 100)\n",
    "sns.scatterplot(data=sales_analysis, x='discount_percentage', y='sales_count_week', ax=axes[1,1], alpha=0.5)\n",
    "axes[1,1].set_title('Sales vs Discount Percentage')\n",
    "\n",
    "plt.tight_layout()\n",
    "plt.show()"
   ]
  },
  {
   "cell_type": "markdown",
   "metadata": {},
   "source": [
    "## 4. Category Analysis"
   ]
  },
  {
   "cell_type": "code",
   "execution_count": null,
   "metadata": {},
   "source": [
    "# Analyze sales by category\n",
    "category_analysis = df.groupBy('categoryTitle').agg(\n",
    "    F.avg('sales_count_week').alias('avg_sales'),\n",
    "    F.count('*').alias('product_count'),\n",
    "    F.avg('price').alias('avg_price'),\n",
    "    F.avg('rating_average').alias('avg_rating')\n",
    ").toPandas()\n",
    "\n",
    "# Plot top categories by average sales\n",
    "plt.figure(figsize=(15, 6))\n",
    "top_categories = category_analysis.nlargest(10, 'avg_sales')\n",
    "sns.barplot(data=top_categories, x='categoryTitle', y='avg_sales')\n",
    "plt.xticks(rotation=45, ha='right')\n",
    "plt.title('Average Weekly Sales by Top 10 Categories')\n",
    "plt.tight_layout()\n",
    "plt.show()\n",
    "\n",
    "# Display category statistics\n",
    "print(\"\\nCategory Statistics:\")\n",
    "display(category_analysis.sort_values('avg_sales', ascending=False).head(10))"
   ]
  },
  {
   "cell_type": "markdown",
   "metadata": {},
   "source": [
    "## 5. Shipping and Delivery Analysis"
   ]
  },
  {
   "cell_type": "code",
   "execution_count": null,
   "metadata": {},
   "source": [
    "# Analyze impact of free shipping and delivery options\n",
    "shipping_features = ['isFreeShipping', 'has_delivery', \n",
    "                    'vendor_freeShippingToIran', 'vendor_freeShippingToSameCity']\n",
    "\n",
    "fig, axes = plt.subplots(2, 2, figsize=(15, 12))\n",
    "axes = axes.ravel()\n",
    "\n",
    "for idx, feature in enumerate(shipping_features):\n",
    "    shipping_stats = df.groupBy(feature) \\\n",
    "        .agg(F.avg('sales_count_week').alias('avg_sales'),\n",
    "             F.count('*').alias('count')) \\\n",
    "        .toPandas()\n",
    "    \n",
    "    sns.barplot(data=shipping_stats, x=feature, y='avg_sales', ax=axes[idx])\n",
    "    axes[idx].set_title(f'Average Sales by {feature}')\n",
    "\n",
    "plt.tight_layout()\n",
    "plt.show()"
   ]
  },
  {
   "cell_type": "markdown",
   "metadata": {},
   "source": [
    "## 6. Vendor Analysis"
   ]
  },
  {
   "cell_type": "code",
   "execution_count": null,
   "metadata": {},
   "source": [
    "# Analyze vendor performance\n",
    "vendor_analysis = df.groupBy('vendor_name') \\\n",
    "    .agg(F.avg('sales_count_week').alias('avg_sales'),\n",
    "         F.avg('rating_average').alias('avg_rating'),\n",
    "         F.count('*').alias('product_count')) \\\n",
    "    .filter('product_count >= 10') \\\n",
    "    .toPandas()\n",
    "\n",
    "# Plot vendor performance\n",
    "plt.figure(figsize=(12, 8))\n",
    "plt.scatter(vendor_analysis['avg_rating'], \n",
    "           vendor_analysis['avg_sales'],\n",
    "           s=vendor_analysis['product_count'],\n",
    "           alpha=0.6)\n",
    "plt.xlabel('Average Rating')\n",
    "plt.ylabel('Average Weekly Sales')\n",
    "plt.title('Vendor Performance: Sales vs Ratings (size = product count)')\n",
    "\n",
    "# Add annotations for top performers\n",
    "top_vendors = vendor_analysis.nlargest(5, 'avg_sales')\n",
    "for _, vendor in top_vendors.iterrows():\n",
    "    plt.annotate(vendor['vendor_name'],\n",
    "                 (vendor['avg_rating'], vendor['avg_sales']))\n",
    "\n",
    "plt.tight_layout()\n",
    "plt.show()"
   ]
  },
  {
   "cell_type": "markdown",
   "metadata": {},
   "source": [
    "## 7. Correlation Analysis"
   ]
  },
  {
   "cell_type": "code",
   "execution_count": null,
   "metadata": {},
   "source": [
    "# Calculate and plot correlation matrix\n",
    "plot_correlation_matrix(df, NUMERICAL_FEATURES)\n",
    "\n",
    "# Calculate detailed correlations with sales\n",
    "correlations = []\n",
    "for feature in NUMERICAL_FEATURES:\n",
    "    correlation = df.stat.corr('sales_count_week', feature)\n",
    "    correlations.append({\n",
    "        'feature': feature,\n",
    "        'correlation': correlation\n",
    "    })\n",
    "\n",
    "correlations_df = pd.DataFrame(correlations)\n",
    "correlations_df = correlations_df.sort_values('correlation', key=abs, ascending=False)\n",
    "\n",
    "print(\"\\nCorrelations with sales_count_week:\")\n",
    "display(correlations_df)"
   ]
  },
  {
   "cell_type": "markdown",
   "metadata": {},
   "source": [
    "## 8. Outlier Detection"
   ]
  },
  {
   "cell_type": "code",
   "execution_count": null,
   "metadata": {},
   "source": [
    "# Create box plots for numerical features\n",
    "plt.figure(figsize=(15, 6))\n",
    "numerical_data.boxplot(column=NUMERICAL_FEATURES, figsize=(15, 6))\n",
    "plt.xticks(rotation=45)\n",
    "plt.title('Box Plots of Numerical Features')\n",
    "plt.tight_layout()\n",
    "plt.show()\n",
    "\n",
    "# Detect outliers using Z-score method\n",
    "outlier_stats = {}\n",
    "for feature in NUMERICAL_FEATURES:\n",
    "    df_with_outliers = detect_outliers(df, feature)\n",
    "    outlier_count = df_with_outliers.filter(col(f'{feature}_is_outlier')).count()\n",
    "    outlier_percentage = (outlier_count / df.count()) * 100\n",
    "    outlier_stats[feature] = {\n",
    "        'outlier_count': outlier_count,\n",
    "        'outlier_percentage': outlier_percentage\n",
    "    }\n",
    "\n",
    "print(\"\\nOutlier Statistics (|z-score| > 3):\")\n",
    "outlier_df = pd.DataFrame.from_dict(outlier_stats, orient='index')\n",
    "display(outlier_df)"
   ]
  },
  {
   "cell_type": "markdown",
   "metadata": {},
   "source": [
    "## 9. Key Insights Summary"
   ]
  },
  {
   "cell_type": "markdown",
   "metadata": {},
   "source": [
    "Based on the analysis above, here are the key insights:\n",
    "\n",
    "1. **Missing Data**:\n",
    "   - [Will be filled based on actual analysis]\n",
    "\n",
    "2. **Sales Patterns**:\n",
    "   - Relationship between sales and stock levels\n",
    "   - Impact of pricing on sales\n",
    "   - Effect of discounts\n",
    "\n",
    "3. **Category Performance**:\n",
    "   - Top performing categories\n",
    "   - Category-wise pricing strategies\n",
    "\n",
    "4. **Shipping Impact**:\n",
    "   - Effect of free shipping on sales\n",
    "   - Delivery options influence\n",
    "\n",
    "5. **Vendor Analysis**:\n",
    "   - Top performing vendors\n",
    "   - Relationship between ratings and sales\n",
    "\n",
    "6. **Correlations**:\n",
    "   - Strong predictors of sales\n",
    "   - Feature relationships\n",
    "\n",
    "7. **Outliers**:\n",
    "   - Distribution of extreme values\n",
    "   - Impact on modeling strategy"
   ]
  }
 ],
 "metadata": {
  "kernelspec": {
   "display_name": "Python 3",
   "language": "python",
   "name": "python3"
  },
  "language_info": {
   "codemirror_mode": {
    "name": "ipython",
    "version": 3
   },
   "file_extension": ".py",
   "mimetype": "text/x-python",
   "name": "python",
   "nbconvert_exporter": "python",
   "pygments_lexer": "ipython3",
   "version": "3.8.0"
  }
 },
 "nbformat": 4,
 "nbformat_minor": 4
}